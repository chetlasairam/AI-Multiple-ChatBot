{
 "cells": [
  {
   "cell_type": "code",
   "execution_count": 1,
   "metadata": {},
   "outputs": [],
   "source": [
    "import chromadb\n",
    "from langchain.embeddings import OpenAIEmbeddings\n",
    "from langchain.text_splitter import CharacterTextSplitter\n",
    "from langchain.vectorstores import Chroma\n",
    "from langchain.document_loaders import TextLoader\n",
    "from dotenv import load_dotenv\n",
    "import openai\n",
    "import os"
   ]
  },
  {
   "cell_type": "code",
   "execution_count": 2,
   "metadata": {},
   "outputs": [],
   "source": [
    "dotenv_path = 'key.env'\n",
    "load_dotenv(dotenv_path)\n",
    "openai.api_key = os.getenv(\"OPENAI_API_KEY\")"
   ]
  },
  {
   "cell_type": "code",
   "execution_count": 7,
   "metadata": {},
   "outputs": [],
   "source": [
    "loader=TextLoader('text.txt')\n",
    "documents=loader.load()"
   ]
  },
  {
   "cell_type": "code",
   "execution_count": 11,
   "metadata": {},
   "outputs": [
    {
     "name": "stdout",
     "output_type": "stream",
     "text": [
      "\"Bezos\" redirects here. For other people with the surname, see Bezos (surname).\n",
      "Jeff Bezos\n",
      "\n",
      "Bezos at the LAAFB SMC in 2017\n",
      "Born\tJeffrey Preston Jorgensen\n",
      "January 12, 1964 (age 59)\n",
      "Albuquerque, New Mexico, U.S.\n",
      "Education\tPrinceton University (BSE)\n",
      "Occupations\t\n",
      "Businessmanmedia proprietorinvestor\n",
      "Years active\t1986â€“present\n",
      "Title\t\n",
      "Founder and executive chairman of Amazon\n",
      "Founder of Blue Origin\n",
      "Founder of Bezos Expeditions\n",
      "Spouse\tMacKenzie Scott\n",
      "â€‹\n",
      "â€‹(m. 1993; div. 2019)â€‹\n",
      "Partner(s)\tLauren SÃ¡nchez\n",
      "(2019â€“present)\n",
      "Children\t4\n",
      "Parents\t\n",
      "Jackie Bezos\n",
      "Ted Jorgensen\n",
      "Relatives\tMark Bezos (half-brother)[1]\n",
      "Signature\n",
      "\n",
      "Jeffrey Preston Bezos (/ËˆbeÉªzoÊŠs/ BAY-zohss;[2] nÃ© Jorgensen; born January 12, 1964) is an American entrepreneur, media proprietor and investor. He is the founder, executive chairman, and former president and CEO of Amazon, the world's largest e-commerce and cloud computing company. With a net worth of US$162 billion as of November 2023, Bezos is the third-wealthiest person in the world and was the wealthiest from 2017 to 2021, according to both the Bloomberg Billionaires Index and Forbes.[3][4]\n",
      "\n",
      "Born in Albuquerque and raised in Houston and Miami, Bezos graduated from Princeton University in 1986 with degrees in electrical engineering and computer science. He worked on Wall Street in a variety of related fields from 1986 to early 1994. Bezos founded Amazon in mid 1994 on a road trip from New York City to Seattle. The company began as an online bookstore and has since expanded to a variety of other e-commerce products and services, including video and audio streaming, cloud computing, and artificial intelligence. It is the world's largest online sales company, the largest Internet company by revenue, and the largest provider of virtual assistants and cloud infrastructure services through its Amazon Web Services branch.\n"
     ]
    }
   ],
   "source": [
    "text_splitter=CharacterTextSplitter.from_tiktoken_encoder(chunk_size=500)\n",
    "docs=text_splitter.split_documents(documents)\n",
    "\n",
    "print(docs[0].page_content)"
   ]
  },
  {
   "cell_type": "code",
   "execution_count": 13,
   "metadata": {},
   "outputs": [],
   "source": [
    "embedding=OpenAIEmbeddings()"
   ]
  },
  {
   "cell_type": "code",
   "execution_count": 14,
   "metadata": {},
   "outputs": [
    {
     "ename": "ValueError",
     "evalue": "Expected EmbeddingFunction.__call__ to have the following signature: odict_keys(['self', 'input']), got odict_keys(['self', 'args', 'kwargs'])\nPlease see https://docs.trychroma.com/embeddings for details of the EmbeddingFunction interface.\nPlease note the recent change to the EmbeddingFunction interface: https://docs.trychroma.com/migration#migration-to-0416---november-7-2023 \n",
     "output_type": "error",
     "traceback": [
      "\u001b[1;31m---------------------------------------------------------------------------\u001b[0m",
      "\u001b[1;31mValueError\u001b[0m                                Traceback (most recent call last)",
      "\u001b[1;32mc:\\Users\\chetl\\OneDrive\\Desktop\\GPT\\Capstone proj\\temp.ipynb Cell 6\u001b[0m line \u001b[0;36m1\n\u001b[1;32m----> <a href='vscode-notebook-cell:/c%3A/Users/chetl/OneDrive/Desktop/GPT/Capstone%20proj/temp.ipynb#W5sZmlsZQ%3D%3D?line=0'>1</a>\u001b[0m db\u001b[39m=\u001b[39mChroma\u001b[39m.\u001b[39;49mfrom_documents(docs,embedding,persist_directory\u001b[39m=\u001b[39;49m\u001b[39m\"\u001b[39;49m\u001b[39mnew_db\u001b[39;49m\u001b[39m\"\u001b[39;49m)\n",
      "File \u001b[1;32m~\\AppData\\Local\\Packages\\PythonSoftwareFoundation.Python.3.11_qbz5n2kfra8p0\\LocalCache\\local-packages\\Python311\\site-packages\\langchain\\vectorstores\\chroma.py:684\u001b[0m, in \u001b[0;36mChroma.from_documents\u001b[1;34m(cls, documents, embedding, ids, collection_name, persist_directory, client_settings, client, collection_metadata, **kwargs)\u001b[0m\n\u001b[0;32m    682\u001b[0m texts \u001b[39m=\u001b[39m [doc\u001b[39m.\u001b[39mpage_content \u001b[39mfor\u001b[39;00m doc \u001b[39min\u001b[39;00m documents]\n\u001b[0;32m    683\u001b[0m metadatas \u001b[39m=\u001b[39m [doc\u001b[39m.\u001b[39mmetadata \u001b[39mfor\u001b[39;00m doc \u001b[39min\u001b[39;00m documents]\n\u001b[1;32m--> 684\u001b[0m \u001b[39mreturn\u001b[39;00m \u001b[39mcls\u001b[39;49m\u001b[39m.\u001b[39;49mfrom_texts(\n\u001b[0;32m    685\u001b[0m     texts\u001b[39m=\u001b[39;49mtexts,\n\u001b[0;32m    686\u001b[0m     embedding\u001b[39m=\u001b[39;49membedding,\n\u001b[0;32m    687\u001b[0m     metadatas\u001b[39m=\u001b[39;49mmetadatas,\n\u001b[0;32m    688\u001b[0m     ids\u001b[39m=\u001b[39;49mids,\n\u001b[0;32m    689\u001b[0m     collection_name\u001b[39m=\u001b[39;49mcollection_name,\n\u001b[0;32m    690\u001b[0m     persist_directory\u001b[39m=\u001b[39;49mpersist_directory,\n\u001b[0;32m    691\u001b[0m     client_settings\u001b[39m=\u001b[39;49mclient_settings,\n\u001b[0;32m    692\u001b[0m     client\u001b[39m=\u001b[39;49mclient,\n\u001b[0;32m    693\u001b[0m     collection_metadata\u001b[39m=\u001b[39;49mcollection_metadata,\n\u001b[0;32m    694\u001b[0m     \u001b[39m*\u001b[39;49m\u001b[39m*\u001b[39;49mkwargs,\n\u001b[0;32m    695\u001b[0m )\n",
      "File \u001b[1;32m~\\AppData\\Local\\Packages\\PythonSoftwareFoundation.Python.3.11_qbz5n2kfra8p0\\LocalCache\\local-packages\\Python311\\site-packages\\langchain\\vectorstores\\chroma.py:620\u001b[0m, in \u001b[0;36mChroma.from_texts\u001b[1;34m(cls, texts, embedding, metadatas, ids, collection_name, persist_directory, client_settings, client, collection_metadata, **kwargs)\u001b[0m\n\u001b[0;32m    587\u001b[0m \u001b[39m@classmethod\u001b[39m\n\u001b[0;32m    588\u001b[0m \u001b[39mdef\u001b[39;00m \u001b[39mfrom_texts\u001b[39m(\n\u001b[0;32m    589\u001b[0m     \u001b[39mcls\u001b[39m: Type[Chroma],\n\u001b[1;32m   (...)\u001b[0m\n\u001b[0;32m    599\u001b[0m     \u001b[39m*\u001b[39m\u001b[39m*\u001b[39mkwargs: Any,\n\u001b[0;32m    600\u001b[0m ) \u001b[39m-\u001b[39m\u001b[39m>\u001b[39m Chroma:\n\u001b[0;32m    601\u001b[0m \u001b[39m    \u001b[39m\u001b[39m\"\"\"Create a Chroma vectorstore from a raw documents.\u001b[39;00m\n\u001b[0;32m    602\u001b[0m \n\u001b[0;32m    603\u001b[0m \u001b[39m    If a persist_directory is specified, the collection will be persisted there.\u001b[39;00m\n\u001b[1;32m   (...)\u001b[0m\n\u001b[0;32m    618\u001b[0m \u001b[39m        Chroma: Chroma vectorstore.\u001b[39;00m\n\u001b[0;32m    619\u001b[0m \u001b[39m    \"\"\"\u001b[39;00m\n\u001b[1;32m--> 620\u001b[0m     chroma_collection \u001b[39m=\u001b[39m \u001b[39mcls\u001b[39;49m(\n\u001b[0;32m    621\u001b[0m         collection_name\u001b[39m=\u001b[39;49mcollection_name,\n\u001b[0;32m    622\u001b[0m         embedding_function\u001b[39m=\u001b[39;49membedding,\n\u001b[0;32m    623\u001b[0m         persist_directory\u001b[39m=\u001b[39;49mpersist_directory,\n\u001b[0;32m    624\u001b[0m         client_settings\u001b[39m=\u001b[39;49mclient_settings,\n\u001b[0;32m    625\u001b[0m         client\u001b[39m=\u001b[39;49mclient,\n\u001b[0;32m    626\u001b[0m         collection_metadata\u001b[39m=\u001b[39;49mcollection_metadata,\n\u001b[0;32m    627\u001b[0m         \u001b[39m*\u001b[39;49m\u001b[39m*\u001b[39;49mkwargs,\n\u001b[0;32m    628\u001b[0m     )\n\u001b[0;32m    629\u001b[0m     \u001b[39mif\u001b[39;00m ids \u001b[39mis\u001b[39;00m \u001b[39mNone\u001b[39;00m:\n\u001b[0;32m    630\u001b[0m         ids \u001b[39m=\u001b[39m [\u001b[39mstr\u001b[39m(uuid\u001b[39m.\u001b[39muuid1()) \u001b[39mfor\u001b[39;00m _ \u001b[39min\u001b[39;00m texts]\n",
      "File \u001b[1;32m~\\AppData\\Local\\Packages\\PythonSoftwareFoundation.Python.3.11_qbz5n2kfra8p0\\LocalCache\\local-packages\\Python311\\site-packages\\langchain\\vectorstores\\chroma.py:125\u001b[0m, in \u001b[0;36mChroma.__init__\u001b[1;34m(self, collection_name, embedding_function, persist_directory, client_settings, collection_metadata, client, relevance_score_fn)\u001b[0m\n\u001b[0;32m    120\u001b[0m     \u001b[39mself\u001b[39m\u001b[39m.\u001b[39m_persist_directory \u001b[39m=\u001b[39m (\n\u001b[0;32m    121\u001b[0m         _client_settings\u001b[39m.\u001b[39mpersist_directory \u001b[39mor\u001b[39;00m persist_directory\n\u001b[0;32m    122\u001b[0m     )\n\u001b[0;32m    124\u001b[0m \u001b[39mself\u001b[39m\u001b[39m.\u001b[39m_embedding_function \u001b[39m=\u001b[39m embedding_function\n\u001b[1;32m--> 125\u001b[0m \u001b[39mself\u001b[39m\u001b[39m.\u001b[39m_collection \u001b[39m=\u001b[39m \u001b[39mself\u001b[39;49m\u001b[39m.\u001b[39;49m_client\u001b[39m.\u001b[39;49mget_or_create_collection(\n\u001b[0;32m    126\u001b[0m     name\u001b[39m=\u001b[39;49mcollection_name,\n\u001b[0;32m    127\u001b[0m     embedding_function\u001b[39m=\u001b[39;49m\u001b[39mself\u001b[39;49m\u001b[39m.\u001b[39;49m_embedding_function\u001b[39m.\u001b[39;49membed_documents\n\u001b[0;32m    128\u001b[0m     \u001b[39mif\u001b[39;49;00m \u001b[39mself\u001b[39;49m\u001b[39m.\u001b[39;49m_embedding_function \u001b[39mis\u001b[39;49;00m \u001b[39mnot\u001b[39;49;00m \u001b[39mNone\u001b[39;49;00m\n\u001b[0;32m    129\u001b[0m     \u001b[39melse\u001b[39;49;00m \u001b[39mNone\u001b[39;49;00m,\n\u001b[0;32m    130\u001b[0m     metadata\u001b[39m=\u001b[39;49mcollection_metadata,\n\u001b[0;32m    131\u001b[0m )\n\u001b[0;32m    132\u001b[0m \u001b[39mself\u001b[39m\u001b[39m.\u001b[39moverride_relevance_score_fn \u001b[39m=\u001b[39m relevance_score_fn\n",
      "File \u001b[1;32m~\\AppData\\Local\\Packages\\PythonSoftwareFoundation.Python.3.11_qbz5n2kfra8p0\\LocalCache\\local-packages\\Python311\\site-packages\\chromadb\\api\\client.py:226\u001b[0m, in \u001b[0;36mClient.get_or_create_collection\u001b[1;34m(self, name, metadata, embedding_function, data_loader)\u001b[0m\n\u001b[0;32m    216\u001b[0m \u001b[39m@override\u001b[39m\n\u001b[0;32m    217\u001b[0m \u001b[39mdef\u001b[39;00m \u001b[39mget_or_create_collection\u001b[39m(\n\u001b[0;32m    218\u001b[0m     \u001b[39mself\u001b[39m,\n\u001b[1;32m   (...)\u001b[0m\n\u001b[0;32m    224\u001b[0m     data_loader: Optional[DataLoader[Loadable]] \u001b[39m=\u001b[39m \u001b[39mNone\u001b[39;00m,\n\u001b[0;32m    225\u001b[0m ) \u001b[39m-\u001b[39m\u001b[39m>\u001b[39m Collection:\n\u001b[1;32m--> 226\u001b[0m     \u001b[39mreturn\u001b[39;00m \u001b[39mself\u001b[39;49m\u001b[39m.\u001b[39;49m_server\u001b[39m.\u001b[39;49mget_or_create_collection(\n\u001b[0;32m    227\u001b[0m         name\u001b[39m=\u001b[39;49mname,\n\u001b[0;32m    228\u001b[0m         metadata\u001b[39m=\u001b[39;49mmetadata,\n\u001b[0;32m    229\u001b[0m         embedding_function\u001b[39m=\u001b[39;49membedding_function,\n\u001b[0;32m    230\u001b[0m         data_loader\u001b[39m=\u001b[39;49mdata_loader,\n\u001b[0;32m    231\u001b[0m         tenant\u001b[39m=\u001b[39;49m\u001b[39mself\u001b[39;49m\u001b[39m.\u001b[39;49mtenant,\n\u001b[0;32m    232\u001b[0m         database\u001b[39m=\u001b[39;49m\u001b[39mself\u001b[39;49m\u001b[39m.\u001b[39;49mdatabase,\n\u001b[0;32m    233\u001b[0m     )\n",
      "File \u001b[1;32m~\\AppData\\Local\\Packages\\PythonSoftwareFoundation.Python.3.11_qbz5n2kfra8p0\\LocalCache\\local-packages\\Python311\\site-packages\\chromadb\\telemetry\\opentelemetry\\__init__.py:127\u001b[0m, in \u001b[0;36mtrace_method.<locals>.decorator.<locals>.wrapper\u001b[1;34m(*args, **kwargs)\u001b[0m\n\u001b[0;32m    125\u001b[0m \u001b[39mglobal\u001b[39;00m tracer, granularity\n\u001b[0;32m    126\u001b[0m \u001b[39mif\u001b[39;00m trace_granularity \u001b[39m<\u001b[39m granularity:\n\u001b[1;32m--> 127\u001b[0m     \u001b[39mreturn\u001b[39;00m f(\u001b[39m*\u001b[39;49margs, \u001b[39m*\u001b[39;49m\u001b[39m*\u001b[39;49mkwargs)\n\u001b[0;32m    128\u001b[0m \u001b[39mif\u001b[39;00m \u001b[39mnot\u001b[39;00m tracer:\n\u001b[0;32m    129\u001b[0m     \u001b[39mreturn\u001b[39;00m f(\u001b[39m*\u001b[39margs, \u001b[39m*\u001b[39m\u001b[39m*\u001b[39mkwargs)\n",
      "File \u001b[1;32m~\\AppData\\Local\\Packages\\PythonSoftwareFoundation.Python.3.11_qbz5n2kfra8p0\\LocalCache\\local-packages\\Python311\\site-packages\\chromadb\\api\\segment.py:216\u001b[0m, in \u001b[0;36mSegmentAPI.get_or_create_collection\u001b[1;34m(self, name, metadata, embedding_function, data_loader, tenant, database)\u001b[0m\n\u001b[0;32m    201\u001b[0m \u001b[39m@trace_method\u001b[39m(\n\u001b[0;32m    202\u001b[0m     \u001b[39m\"\u001b[39m\u001b[39mSegmentAPI.get_or_create_collection\u001b[39m\u001b[39m\"\u001b[39m, OpenTelemetryGranularity\u001b[39m.\u001b[39mOPERATION\n\u001b[0;32m    203\u001b[0m )\n\u001b[1;32m   (...)\u001b[0m\n\u001b[0;32m    214\u001b[0m     database: \u001b[39mstr\u001b[39m \u001b[39m=\u001b[39m DEFAULT_DATABASE,\n\u001b[0;32m    215\u001b[0m ) \u001b[39m-\u001b[39m\u001b[39m>\u001b[39m Collection:\n\u001b[1;32m--> 216\u001b[0m     \u001b[39mreturn\u001b[39;00m \u001b[39mself\u001b[39;49m\u001b[39m.\u001b[39;49mcreate_collection(  \u001b[39m# type: ignore\u001b[39;49;00m\n\u001b[0;32m    217\u001b[0m         name\u001b[39m=\u001b[39;49mname,\n\u001b[0;32m    218\u001b[0m         metadata\u001b[39m=\u001b[39;49mmetadata,\n\u001b[0;32m    219\u001b[0m         embedding_function\u001b[39m=\u001b[39;49membedding_function,\n\u001b[0;32m    220\u001b[0m         data_loader\u001b[39m=\u001b[39;49mdata_loader,\n\u001b[0;32m    221\u001b[0m         get_or_create\u001b[39m=\u001b[39;49m\u001b[39mTrue\u001b[39;49;00m,\n\u001b[0;32m    222\u001b[0m         tenant\u001b[39m=\u001b[39;49mtenant,\n\u001b[0;32m    223\u001b[0m         database\u001b[39m=\u001b[39;49mdatabase,\n\u001b[0;32m    224\u001b[0m     )\n",
      "File \u001b[1;32m~\\AppData\\Local\\Packages\\PythonSoftwareFoundation.Python.3.11_qbz5n2kfra8p0\\LocalCache\\local-packages\\Python311\\site-packages\\chromadb\\telemetry\\opentelemetry\\__init__.py:127\u001b[0m, in \u001b[0;36mtrace_method.<locals>.decorator.<locals>.wrapper\u001b[1;34m(*args, **kwargs)\u001b[0m\n\u001b[0;32m    125\u001b[0m \u001b[39mglobal\u001b[39;00m tracer, granularity\n\u001b[0;32m    126\u001b[0m \u001b[39mif\u001b[39;00m trace_granularity \u001b[39m<\u001b[39m granularity:\n\u001b[1;32m--> 127\u001b[0m     \u001b[39mreturn\u001b[39;00m f(\u001b[39m*\u001b[39;49margs, \u001b[39m*\u001b[39;49m\u001b[39m*\u001b[39;49mkwargs)\n\u001b[0;32m    128\u001b[0m \u001b[39mif\u001b[39;00m \u001b[39mnot\u001b[39;00m tracer:\n\u001b[0;32m    129\u001b[0m     \u001b[39mreturn\u001b[39;00m f(\u001b[39m*\u001b[39margs, \u001b[39m*\u001b[39m\u001b[39m*\u001b[39mkwargs)\n",
      "File \u001b[1;32m~\\AppData\\Local\\Packages\\PythonSoftwareFoundation.Python.3.11_qbz5n2kfra8p0\\LocalCache\\local-packages\\Python311\\site-packages\\chromadb\\api\\segment.py:190\u001b[0m, in \u001b[0;36mSegmentAPI.create_collection\u001b[1;34m(self, name, metadata, embedding_function, data_loader, get_or_create, tenant, database)\u001b[0m\n\u001b[0;32m    182\u001b[0m \u001b[39mself\u001b[39m\u001b[39m.\u001b[39m_product_telemetry_client\u001b[39m.\u001b[39mcapture(\n\u001b[0;32m    183\u001b[0m     ClientCreateCollectionEvent(\n\u001b[0;32m    184\u001b[0m         collection_uuid\u001b[39m=\u001b[39m\u001b[39mstr\u001b[39m(\u001b[39mid\u001b[39m),\n\u001b[0;32m    185\u001b[0m         embedding_function\u001b[39m=\u001b[39membedding_function\u001b[39m.\u001b[39m\u001b[39m__class__\u001b[39m\u001b[39m.\u001b[39m\u001b[39m__name__\u001b[39m,\n\u001b[0;32m    186\u001b[0m     )\n\u001b[0;32m    187\u001b[0m )\n\u001b[0;32m    188\u001b[0m add_attributes_to_current_span({\u001b[39m\"\u001b[39m\u001b[39mcollection_uuid\u001b[39m\u001b[39m\"\u001b[39m: \u001b[39mstr\u001b[39m(\u001b[39mid\u001b[39m)})\n\u001b[1;32m--> 190\u001b[0m \u001b[39mreturn\u001b[39;00m Collection(\n\u001b[0;32m    191\u001b[0m     client\u001b[39m=\u001b[39;49m\u001b[39mself\u001b[39;49m,\n\u001b[0;32m    192\u001b[0m     \u001b[39mid\u001b[39;49m\u001b[39m=\u001b[39;49mcoll[\u001b[39m\"\u001b[39;49m\u001b[39mid\u001b[39;49m\u001b[39m\"\u001b[39;49m],\n\u001b[0;32m    193\u001b[0m     name\u001b[39m=\u001b[39;49mname,\n\u001b[0;32m    194\u001b[0m     metadata\u001b[39m=\u001b[39;49mcoll[\u001b[39m\"\u001b[39;49m\u001b[39mmetadata\u001b[39;49m\u001b[39m\"\u001b[39;49m],  \u001b[39m# type: ignore\u001b[39;49;00m\n\u001b[0;32m    195\u001b[0m     embedding_function\u001b[39m=\u001b[39;49membedding_function,\n\u001b[0;32m    196\u001b[0m     data_loader\u001b[39m=\u001b[39;49mdata_loader,\n\u001b[0;32m    197\u001b[0m     tenant\u001b[39m=\u001b[39;49mtenant,\n\u001b[0;32m    198\u001b[0m     database\u001b[39m=\u001b[39;49mdatabase,\n\u001b[0;32m    199\u001b[0m )\n",
      "File \u001b[1;32m~\\AppData\\Local\\Packages\\PythonSoftwareFoundation.Python.3.11_qbz5n2kfra8p0\\LocalCache\\local-packages\\Python311\\site-packages\\chromadb\\api\\models\\Collection.py:85\u001b[0m, in \u001b[0;36mCollection.__init__\u001b[1;34m(self, client, name, id, embedding_function, data_loader, tenant, database, metadata)\u001b[0m\n\u001b[0;32m     83\u001b[0m \u001b[39m# Check to make sure the embedding function has the right signature, as defined by the EmbeddingFunction protocol\u001b[39;00m\n\u001b[0;32m     84\u001b[0m \u001b[39mif\u001b[39;00m embedding_function \u001b[39mis\u001b[39;00m \u001b[39mnot\u001b[39;00m \u001b[39mNone\u001b[39;00m:\n\u001b[1;32m---> 85\u001b[0m     validate_embedding_function(embedding_function)\n\u001b[0;32m     87\u001b[0m \u001b[39mself\u001b[39m\u001b[39m.\u001b[39m_embedding_function \u001b[39m=\u001b[39m embedding_function\n\u001b[0;32m     88\u001b[0m \u001b[39mself\u001b[39m\u001b[39m.\u001b[39m_data_loader \u001b[39m=\u001b[39m data_loader\n",
      "File \u001b[1;32m~\\AppData\\Local\\Packages\\PythonSoftwareFoundation.Python.3.11_qbz5n2kfra8p0\\LocalCache\\local-packages\\Python311\\site-packages\\chromadb\\api\\types.py:210\u001b[0m, in \u001b[0;36mvalidate_embedding_function\u001b[1;34m(embedding_function)\u001b[0m\n\u001b[0;32m    207\u001b[0m protocol_signature \u001b[39m=\u001b[39m signature(EmbeddingFunction\u001b[39m.\u001b[39m\u001b[39m__call__\u001b[39m)\u001b[39m.\u001b[39mparameters\u001b[39m.\u001b[39mkeys()\n\u001b[0;32m    209\u001b[0m \u001b[39mif\u001b[39;00m \u001b[39mnot\u001b[39;00m function_signature \u001b[39m==\u001b[39m protocol_signature:\n\u001b[1;32m--> 210\u001b[0m     \u001b[39mraise\u001b[39;00m \u001b[39mValueError\u001b[39;00m(\n\u001b[0;32m    211\u001b[0m         \u001b[39mf\u001b[39m\u001b[39m\"\u001b[39m\u001b[39mExpected EmbeddingFunction.__call__ to have the following signature: \u001b[39m\u001b[39m{\u001b[39;00mprotocol_signature\u001b[39m}\u001b[39;00m\u001b[39m, got \u001b[39m\u001b[39m{\u001b[39;00mfunction_signature\u001b[39m}\u001b[39;00m\u001b[39m\\n\u001b[39;00m\u001b[39m\"\u001b[39m\n\u001b[0;32m    212\u001b[0m         \u001b[39m\"\u001b[39m\u001b[39mPlease see https://docs.trychroma.com/embeddings for details of the EmbeddingFunction interface.\u001b[39m\u001b[39m\\n\u001b[39;00m\u001b[39m\"\u001b[39m\n\u001b[0;32m    213\u001b[0m         \u001b[39m\"\u001b[39m\u001b[39mPlease note the recent change to the EmbeddingFunction interface: https://docs.trychroma.com/migration#migration-to-0416---november-7-2023 \u001b[39m\u001b[39m\\n\u001b[39;00m\u001b[39m\"\u001b[39m\n\u001b[0;32m    214\u001b[0m     )\n",
      "\u001b[1;31mValueError\u001b[0m: Expected EmbeddingFunction.__call__ to have the following signature: odict_keys(['self', 'input']), got odict_keys(['self', 'args', 'kwargs'])\nPlease see https://docs.trychroma.com/embeddings for details of the EmbeddingFunction interface.\nPlease note the recent change to the EmbeddingFunction interface: https://docs.trychroma.com/migration#migration-to-0416---november-7-2023 \n"
     ]
    }
   ],
   "source": [
    "db=Chroma.from_documents(docs,embedding,persist_directory=\"new_db\")"
   ]
  },
  {
   "cell_type": "code",
   "execution_count": null,
   "metadata": {},
   "outputs": [],
   "source": []
  }
 ],
 "metadata": {
  "kernelspec": {
   "display_name": "Python 3",
   "language": "python",
   "name": "python3"
  },
  "language_info": {
   "codemirror_mode": {
    "name": "ipython",
    "version": 3
   },
   "file_extension": ".py",
   "mimetype": "text/x-python",
   "name": "python",
   "nbconvert_exporter": "python",
   "pygments_lexer": "ipython3",
   "version": "3.11.6"
  }
 },
 "nbformat": 4,
 "nbformat_minor": 2
}
